{
 "cells": [
  {
   "cell_type": "code",
   "execution_count": 2,
   "metadata": {},
   "outputs": [],
   "source": [
    "import torch"
   ]
  },
  {
   "cell_type": "code",
   "execution_count": 3,
   "metadata": {},
   "outputs": [],
   "source": [
    "from datasets import load_dataset"
   ]
  },
  {
   "cell_type": "code",
   "execution_count": 4,
   "metadata": {},
   "outputs": [
    {
     "name": "stderr",
     "output_type": "stream",
     "text": [
      "Using custom data configuration default\n",
      "Reusing dataset jfleg (/home/ubuntu/.cache/huggingface/datasets/jfleg/default/1.0.0/ed4ab2367351fe31949f48849ae6732b164f0d5ea6bb5d4357ff4293ac89511b)\n"
     ]
    }
   ],
   "source": [
    "train_dataset = load_dataset(\"jfleg\", split='validation[:]')"
   ]
  },
  {
   "cell_type": "code",
   "execution_count": 5,
   "metadata": {},
   "outputs": [
    {
     "name": "stderr",
     "output_type": "stream",
     "text": [
      "Using custom data configuration default\n",
      "Reusing dataset jfleg (/home/ubuntu/.cache/huggingface/datasets/jfleg/default/1.0.0/ed4ab2367351fe31949f48849ae6732b164f0d5ea6bb5d4357ff4293ac89511b)\n"
     ]
    }
   ],
   "source": [
    "eval_dataset = load_dataset(\"jfleg\", split='test[:]')"
   ]
  },
  {
   "cell_type": "code",
   "execution_count": 6,
   "metadata": {},
   "outputs": [
    {
     "name": "stdout",
     "output_type": "stream",
     "text": [
      "['They draw in the consumers , like me , to purchase a great product with amazing ingredients , but actually , they just make up these words to increase their sales . ', 'They draw in consumers like me , who purchase this great product with all these amazing ingredients , but sometimes they just make things up to increase their sales . ', 'They draw the consumers , like me , to purchase this great product with all these amazing features , but actually sometimes they just make something up just to increase their sales . ', 'They draw the consumers , like me , to purchase this great product with all these amazing ingredients and all that , but actually they just sometimes make something up just to increase their sales . ']\n",
      "They draw in the consumers , like me , to purchase a great product with amazing ingredients , but actually , they just make up these words to increase their sales . \n",
      "--------------------------------------------------------\n",
      "['I want to talk about nocive or bad products like alcohol , hair spray and cigarettes . ', 'I want to talk about harmful or bad products like alcohol , hair spray and cigarettes . ', 'I want to talk about harmful or bad products like alcohol , hair spray and cigarettes . ', 'I want to talk about harmful or bad products like alcohol , hair spray and cigarettes . ']\n",
      "I want to talk about nocive or bad products like alcohol , hair spray and cigarettes . \n",
      "--------------------------------------------------------\n",
      "['For example , they can play football whenever they want , but the elders cannot . ', 'For example , they can play football whenever they want but the others can not . ', \"For example , they can play football whenever they want but the seniors ca n't . \", 'For example they can play football whenever they want but the older ones cannot . ']\n",
      "For example , they can play football whenever they want , but the elders cannot . \n",
      "--------------------------------------------------------\n",
      "['It features Diana Krall wearing a Rolex watch and the text suggests that if the reader wants to belong to a restricted club -- not necessarily of Rolex watch-wearers -- but of highly talented , sophisticated , competent artists , then he or she should also have a Rolex . ', 'Diana Krall is wearing a Rolex watch and has a text that suggests that if the reader wants to belong to a restricted club , comprised not just of Rolex watch wearers but highly talented , sophisticated and competent artists , he or she should also have a Rolex . ', 'It figures Diana Krall is wearing a Rolex watch and has a text that suggests that if the reader wants to belong to the restricted club , not necessarily of Rolex watch wearers , but of highly talented , sophisticated and competent artists , he or she should also have a Rolex . ', 'It figures Diana Krall wearing a Rolex watch and has a text that suggests that if the reader wants to belong to the restricted club , not necessarily of Rolex watch wearers , but of highly talented , sophisticated and competent artists , he or she should also have a Rolex . ']\n",
      "It features Diana Krall wearing a Rolex watch and the text suggests that if the reader wants to belong to a restricted club -- not necessarily of Rolex watch-wearers -- but of highly talented , sophisticated , competent artists , then he or she should also have a Rolex . \n",
      "--------------------------------------------------------\n"
     ]
    }
   ],
   "source": [
    "for case in train_dataset[\"corrections\"][5:9]:\n",
    "  print(case)\n",
    "  print(case[0])\n",
    "  print(\"--------------------------------------------------------\")"
   ]
  },
  {
   "cell_type": "code",
   "execution_count": 7,
   "metadata": {},
   "outputs": [],
   "source": [
    "import csv"
   ]
  },
  {
   "cell_type": "code",
   "execution_count": 32,
   "metadata": {},
   "outputs": [],
   "source": [
    "def generate_csv(csv_path, dataset):\n",
    "    with open(csv_path, 'w', newline='') as csvfile:\n",
    "        writter = csv.writer(csvfile)\n",
    "        writter.writerow([\"input\", \"target\"])\n",
    "        for case in dataset:\n",
    "            input_text = \"grammar: \" + case[\"sentence\"]\n",
    "            for correction in case[\"corrections\"]:\n",
    "                # a few of the cases are blank strings. So we'll skip them\n",
    "                #input_text = remove_excess_spaces(input_text)\n",
    "                correction = remove_excess_spaces(correction)\n",
    "                input_text = remove_excess_spaces(input_text)\n",
    "\n",
    "\n",
    "                if input_text and correction:\n",
    "                    writter.writerow([input_text, correction])"
   ]
  },
  {
   "cell_type": "code",
   "execution_count": 9,
   "metadata": {},
   "outputs": [],
   "source": [
    "from pathlib import Path"
   ]
  },
  {
   "cell_type": "code",
   "execution_count": 10,
   "metadata": {},
   "outputs": [],
   "source": [
    "data_dir = Path.cwd()/'datasets/jfleg'"
   ]
  },
  {
   "cell_type": "code",
   "execution_count": 33,
   "metadata": {},
   "outputs": [],
   "source": [
    "generate_csv(\"jfleg_train.csv\", train_dataset)"
   ]
  },
  {
   "cell_type": "code",
   "execution_count": 34,
   "metadata": {},
   "outputs": [],
   "source": [
    "generate_csv(\"jfleg_validation.csv\", eval_dataset)"
   ]
  },
  {
   "cell_type": "code",
   "execution_count": 12,
   "metadata": {},
   "outputs": [],
   "source": [
    "replacements = [\n",
    "  (\" .\", \".\"), \n",
    "  (\" ,\", \",\"),\n",
    "  (\" '\", \"'\"),\n",
    "  (\" ?\", \"?\"),\n",
    "  (\" !\", \"!\"),\n",
    "  (\" :\", \"!\"),\n",
    "  (\" ;\", \"!\"),\n",
    "  (\" n't\", \"n't\"),\n",
    "  (\" v\", \"n't\"),\n",
    "  (\"2 0 0 6\", \"2006\"),\n",
    "  (\"5 5\", \"55\"),\n",
    "  (\"4 0 0\", \"400\"),\n",
    "  (\"1 7-5 0\", \"1750\"),\n",
    "  (\"2 0 %\", \"20%\"),\n",
    "  (\"5 0\", \"50\"),\n",
    "  (\"1 2\", \"12\"),\n",
    "  (\"1 0\", \"10\"),\n",
    "  ('\" ballast water', '\"ballast water')\n",
    "]\n",
    "\n",
    "def remove_excess_spaces(text):\n",
    "  for rep in replacements:\n",
    "    text = text.replace(rep[0], rep[1])\n",
    "\n",
    "  return text\n"
   ]
  },
  {
   "cell_type": "code",
   "execution_count": 14,
   "metadata": {},
   "outputs": [],
   "source": [
    "import pandas as pd"
   ]
  },
  {
   "cell_type": "code",
   "execution_count": 20,
   "metadata": {},
   "outputs": [],
   "source": [
    "df = pd.read_csv('jfleg_train.csv', index_col=0, header=None)"
   ]
  },
  {
   "cell_type": "code",
   "execution_count": 22,
   "metadata": {},
   "outputs": [],
   "source": [
    "df = df.iloc[1: , :]  # drop first row which has titles"
   ]
  },
  {
   "cell_type": "code",
   "execution_count": 17,
   "metadata": {},
   "outputs": [],
   "source": [
    "z = df.to_dict()"
   ]
  },
  {
   "cell_type": "code",
   "execution_count": 23,
   "metadata": {},
   "outputs": [
    {
     "data": {
      "text/plain": [
       "<bound method NDFrame.head of                                                                                                     1\n",
       "0                                                                                                    \n",
       "grammar: So I think we can not live if old peop...  So I think we would not be alive if our ancest...\n",
       "grammar: So I think we can not live if old peop...  So I think we could not live if older people d...\n",
       "grammar: So I think we can not live if old peop...  So I think we can not live if old people could...\n",
       "grammar: So I think we can not live if old peop...  So I think we can not live if old people can n...\n",
       "grammar: For not use car .                                                  Not for use with a car . \n",
       "...                                                                                               ...\n",
       "grammar: Sceene of violence can affect on them .                Scenes of violence can affect them . \n",
       "grammar: While the communities in general have ...  The communities in general have reckoned that ...\n",
       "grammar: While the communities in general have ...  While the communities in general have reckoned...\n",
       "grammar: While the communities in general have ...  While the communities in general have recogniz...\n",
       "grammar: While the communities in general have ...  While the communities in general believe that ...\n",
       "\n",
       "[3016 rows x 1 columns]>"
      ]
     },
     "execution_count": 23,
     "metadata": {},
     "output_type": "execute_result"
    }
   ],
   "source": [
    "df.head"
   ]
  },
  {
   "cell_type": "code",
   "execution_count": 24,
   "metadata": {},
   "outputs": [],
   "source": [
    "z = df.to_dict()"
   ]
  },
  {
   "cell_type": "code",
   "execution_count": 26,
   "metadata": {},
   "outputs": [
    {
     "data": {
      "text/plain": [
       "dict"
      ]
     },
     "execution_count": 26,
     "metadata": {},
     "output_type": "execute_result"
    }
   ],
   "source": [
    "type(z)"
   ]
  },
  {
   "cell_type": "code",
   "execution_count": 28,
   "metadata": {},
   "outputs": [
    {
     "name": "stderr",
     "output_type": "stream",
     "text": [
      "/home/ubuntu/anaconda3/envs/pytorch_p38/lib/python3.8/site-packages/torch/nn/modules/module.py:1383: UserWarning: positional arguments and argument \"destination\" are deprecated. nn.Module.state_dict will not accept them in the future. Refer to https://pytorch.org/docs/master/generated/torch.nn.Module.html#torch.nn.Module.state_dict for details.\n",
      "  warnings.warn(\n"
     ]
    }
   ],
   "source": [
    "from transformers import AutoTokenizer, AutoModelForSeq2SeqLM\n",
    "\n",
    "tokenizer = AutoTokenizer.from_pretrained(\"t5-small\")\n",
    "\n",
    "model = AutoModelForSeq2SeqLM.from_pretrained(\"t5-small\")"
   ]
  },
  {
   "cell_type": "code",
   "execution_count": 31,
   "metadata": {},
   "outputs": [
    {
     "name": "stdout",
     "output_type": "stream",
     "text": [
      "untrained input: I am lived with my parenmts \n",
      "Ignored unknown kwarg option direction\n",
      "inputes = {'input_ids': tensor([[19519,    10,   196,   183,  4114,    28,    82,   260,    35,    51,\n",
      "            17,     7,     1]]), 'attention_mask': tensor([[1, 1, 1, 1, 1, 1, 1, 1, 1, 1, 1, 1, 1]])}\n",
      "Grammatik:I am lived with my parenmts with my parenmts.\n"
     ]
    }
   ],
   "source": [
    "\n",
    "text = \"I am lived with my parenmts \"\n",
    "print(f\"untrained input: {text}\")\n",
    "inputs = tokenizer(\"grammar:\"+text, truncation=True, return_tensors='pt')\n",
    "print(f\"inputes = {inputs}\")\n",
    "output = model.generate(inputs['input_ids'], num_beams=4, max_length=512, early_stopping=True)\n",
    "correction=tokenizer.batch_decode(output, skip_special_tokens=True)\n",
    "print(\"\".join(correction)) #Correction: I am living with my parents.\n"
   ]
  },
  {
   "cell_type": "code",
   "execution_count": null,
   "metadata": {},
   "outputs": [],
   "source": []
  }
 ],
 "metadata": {
  "interpreter": {
   "hash": "5b2c14c5f2a3b21e6c2412c8196f5145870350e81c0b737cae3e5c60eb1e1eac"
  },
  "kernelspec": {
   "display_name": "Python 3.8.12 ('pytorch_p38')",
   "language": "python",
   "name": "python3"
  },
  "language_info": {
   "codemirror_mode": {
    "name": "ipython",
    "version": 3
   },
   "file_extension": ".py",
   "mimetype": "text/x-python",
   "name": "python",
   "nbconvert_exporter": "python",
   "pygments_lexer": "ipython3",
   "version": "3.8.12"
  },
  "orig_nbformat": 4
 },
 "nbformat": 4,
 "nbformat_minor": 2
}
